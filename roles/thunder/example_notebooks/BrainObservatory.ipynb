{
 "cells": [
  {
   "cell_type": "markdown",
   "metadata": {},
   "source": [
    "## Brain observatory\n",
    "This notebook documents some classes and functions in the [Allen Software Development Kit](http://alleninstitute.github.io/AllenSDK/) (SDK) that help manipulate files and data structures in the Allen Brain Observatory. The main entry point in the BrainObservatoryCache class. This class is responsible for downloading any requested data or metadata on request and storing it in well known locations. Detailed information about the experimental parameters is available in [technical white papers](http://help.brain-map.org/display/observatory/Documentation)."
   ]
  },
  {
   "cell_type": "markdown",
   "metadata": {},
   "source": [
    "### Experiment containers\n",
    "The experiment container describes a set of experiments performed with the same targeted area, imaging depth, and Cre line. The BrainObservatoryCache has a number of functions for figuring out what experiment containers are available at the moment."
   ]
  },
  {
   "cell_type": "code",
   "execution_count": null,
   "metadata": {
    "collapsed": false
   },
   "outputs": [],
   "source": [
    "from allensdk.core.brain_observatory_cache import BrainObservatoryCache\n",
    "import pprint\n",
    "\n",
    "# This class uses a 'manifest' to keep track of downloaded data and metadata.  \n",
    "# All downloaded files will be stored relative to the directory holding the manifest\n",
    "# file.  If 'manifest_file' is a relative path (as it is below), it will be \n",
    "# saved relative to your working directory.  It can also be an absolute path.\n",
    "boc = BrainObservatoryCache(manifest_file='boc/manifest.json')\n",
    "\n",
    "# Download a list of all targeted areas\n",
    "targeted_structures = boc.get_all_targeted_structures()\n",
    "print(\"all targeted structures: \" + str(targeted_structures))"
   ]
  },
  {
   "cell_type": "code",
   "execution_count": null,
   "metadata": {
    "collapsed": false
   },
   "outputs": [],
   "source": [
    "# Download experiment containers for VISp experiments\n",
    "visp_ecs = boc.get_experiment_containers(targeted_structures=['VISp'])\n",
    "print(\"all VISp experiment containers: %d\" % len(visp_ecs))"
   ]
  },
  {
   "cell_type": "code",
   "execution_count": null,
   "metadata": {
    "collapsed": false
   },
   "outputs": [],
   "source": [
    "# Download a list of all imaging depths\n",
    "depths = boc.get_all_imaging_depths()\n",
    "print(\"all imaging depths: \" + str(depths))"
   ]
  },
  {
   "cell_type": "code",
   "execution_count": null,
   "metadata": {
    "collapsed": false
   },
   "outputs": [],
   "source": [
    "# Download a list of all stimuli\n",
    "stims = boc.get_all_stimuli()\n",
    "print(\"all stimuli:\\n\")\n",
    "pprint.pprint(stims)"
   ]
  },
  {
   "cell_type": "code",
   "execution_count": null,
   "metadata": {
    "collapsed": false
   },
   "outputs": [],
   "source": [
    "# Download a list of all cre driver lines \n",
    "cre_lines = boc.get_all_cre_lines()\n",
    "print(\"all cre lines: \" + str(cre_lines))"
   ]
  },
  {
   "cell_type": "code",
   "execution_count": null,
   "metadata": {
    "collapsed": false
   },
   "outputs": [],
   "source": [
    "# Download experiment containers for Cux2 experiments\n",
    "cux2_ecs = boc.get_experiment_containers(cre_lines=['Cux2-CreERT2'])\n",
    "print(\"Cux2 experiments: %d\\n\" % len(cux2_ecs))\n",
    "\n",
    "print(\"Example experiment container record:\")\n",
    "pprint.pprint(cux2_ecs[0])"
   ]
  },
  {
   "cell_type": "markdown",
   "metadata": {},
   "source": [
    "### Download experiments for a container\n",
    "An experiment container is a group of experiments. Each experiment has a different stimulus protocol. For example, one experiment protocol contains the static gratings stimulus and another has the natural scenes stimulus. The BrainObservatoryCache helps you find out which experiment associated with a container has the stimuli you are interested in. First, let's see what experiments are available for a single container."
   ]
  },
  {
   "cell_type": "code",
   "execution_count": null,
   "metadata": {
    "collapsed": false
   },
   "outputs": [],
   "source": [
    "# Find all of the experiments for an experiment container\n",
    "cux2_ec_id = cux2_ecs[0]['id']\n",
    "exps = boc.get_ophys_experiments(experiment_container_ids=[cux2_ec_id])\n",
    "print(\"Experiments for experiment_container_id %d: %d\\n\" % (cux2_ec_id, len(exps)))\n",
    "pprint.pprint(exps)"
   ]
  },
  {
   "cell_type": "markdown",
   "metadata": {},
   "source": [
    "The session_type field indicates which experimental protocol was used. If you just want to find which experiment contains the static gratings stimulus, you can do the following:"
   ]
  },
  {
   "cell_type": "code",
   "execution_count": null,
   "metadata": {
    "collapsed": false
   },
   "outputs": [],
   "source": [
    "import allensdk.brain_observatory.stimulus_info as stim_info\n",
    "\n",
    "# Find the experiment with the static static gratings stimulus\n",
    "cux2_ec_id = cux2_ecs[0]['id']\n",
    "exp = boc.get_ophys_experiments(experiment_container_ids=[cux2_ec_id], \n",
    "                                stimuli=[stim_info.STATIC_GRATINGS])[0]\n",
    "print(\"Experiment with static gratings:\")\n",
    "pprint.pprint(exp)"
   ]
  },
  {
   "cell_type": "markdown",
   "metadata": {},
   "source": [
    "Now we can download the NWB file for this experiment. The file will be stored in the folder boc/ophys_experiment_data/. The file format is [Neurodata without Borders](http://www.nwb.org/) (.nwb), which is essentially an HDF5 file that can be conveniently viewed using appropriate viewers, such as [HDFView](https://www.hdfgroup.org/products/java/hdfview/). Note that the download can take some time."
   ]
  },
  {
   "cell_type": "code",
   "execution_count": null,
   "metadata": {
    "collapsed": false
   },
   "outputs": [],
   "source": [
    "exp = boc.get_ophys_experiment_data(exp['id'])\n",
    "\n",
    "# print out the metadata available in the NWB file\n",
    "pprint.pprint(exp.get_metadata())"
   ]
  },
  {
   "cell_type": "markdown",
   "metadata": {},
   "source": [
    "We can check which files have been downloaded using standard Linux shell commands. These can be used in a notebook cell by prefacing %%bash to the cell:"
   ]
  },
  {
   "cell_type": "code",
   "execution_count": null,
   "metadata": {
    "collapsed": false
   },
   "outputs": [],
   "source": [
    "%%bash\n",
    "ls -lsah boc/ophys_experiment_data/"
   ]
  },
  {
   "cell_type": "markdown",
   "metadata": {},
   "source": [
    "### Extract traces from experiment"
   ]
  },
  {
   "cell_type": "code",
   "execution_count": null,
   "metadata": {
    "collapsed": true
   },
   "outputs": [],
   "source": [
    "# several different traces are available (raw, neuropil corrected, Dff)\n",
    "time, raw_traces = exp.get_fluorescence_traces()\n",
    "time, corrected_traces = exp.get_corrected_fluorescence_traces()\n",
    "time, dff_traces = exp.get_dff_traces()"
   ]
  },
  {
   "cell_type": "markdown",
   "metadata": {},
   "source": [
    "### Plot traces"
   ]
  },
  {
   "cell_type": "code",
   "execution_count": null,
   "metadata": {
    "collapsed": true
   },
   "outputs": [],
   "source": [
    "# we use the Bokeh library because of the available interactive tools (zoom, data cursor etc.)\n",
    "from bokeh.plotting import Figure, show\n",
    "from bokeh.models import Range1d, CrosshairTool, HoverTool\n",
    "from bokeh.io import output_notebook\n",
    "\n",
    "import numpy as np"
   ]
  },
  {
   "cell_type": "code",
   "execution_count": null,
   "metadata": {
    "collapsed": false
   },
   "outputs": [],
   "source": [
    "output_notebook()"
   ]
  },
  {
   "cell_type": "code",
   "execution_count": null,
   "metadata": {
    "collapsed": true
   },
   "outputs": [],
   "source": [
    "def getHover():\n",
    "    \"\"\"Define and return hover tool for a plot\"\"\"\n",
    "    # Define hover tool\n",
    "    hover = HoverTool()\n",
    "    hover.tooltips = [\n",
    "        (\"index\", \"$index\"),\n",
    "        (\"(x,y)\", \"($x, $y)\"),\n",
    "        (\"fill color\", \"$color[hex, swatch]:fill_color\"),\n",
    "    ]\n",
    "    return hover"
   ]
  },
  {
   "cell_type": "code",
   "execution_count": null,
   "metadata": {
    "collapsed": true
   },
   "outputs": [],
   "source": [
    "def plotTimeseries(p, t, y):\n",
    "    \"\"\"\n",
    "    Plot a timeseries in Figure p using the Bokeh library\n",
    "    \n",
    "    Input arguments:\n",
    "    p ... Bokeh figure\n",
    "    t ... 1d time axis vector (numpy array)\n",
    "    y ... 1d data vector (numpy array)\n",
    "    \"\"\"\n",
    "    \n",
    "    p.add_tools(CrosshairTool(), getHover())\n",
    "    p.line(t, y, line_width=2, color='blue')\n",
    "    left, right = np.min(t), np.max(t)\n",
    "    p.set(x_range=Range1d(left, right))\n",
    "    show(p)\n",
    "    \n",
    "    return p"
   ]
  },
  {
   "cell_type": "code",
   "execution_count": null,
   "metadata": {
    "collapsed": false
   },
   "outputs": [],
   "source": [
    "# plot raw fluorescence trace\n",
    "p = Figure(plot_width=800, plot_height=300, title=\"Raw Fluorescence Trace\")\n",
    "p = plotTimeseries(p, time, raw_traces[0])\n",
    "\n",
    "# plot neuropil-corrected fluorescence trace\n",
    "p = Figure(plot_width=800, plot_height=300, title=\"Neuropil-corrected Fluorescence Trace\")\n",
    "p = plotTimeseries(p, time, corrected_traces[0])\n",
    "\n",
    "# plot dF/F trace\n",
    "p = Figure(plot_width=800, plot_height=300, title=\"dF/F Trace\")\n",
    "p = plotTimeseries(p, time, dff_traces[0])"
   ]
  },
  {
   "cell_type": "markdown",
   "metadata": {},
   "source": [
    "### Running speed\n",
    "The animal's running speed during the course of the experiment is also stored in the NWB file."
   ]
  },
  {
   "cell_type": "code",
   "execution_count": null,
   "metadata": {
    "collapsed": false
   },
   "outputs": [],
   "source": [
    "dxcm, dxtime = exp.get_running_speed()\n",
    "p = Figure(plot_width=800, plot_height=300, title=\"Running speed\")\n",
    "p = plotTimeseries(p, dxtime, dxcm)"
   ]
  },
  {
   "cell_type": "markdown",
   "metadata": {
    "collapsed": true
   },
   "source": [
    "### ROI Masks\n",
    "If you want to take a look at the cell visually, you can open the NWB file and extract a pixel mask. You can also pull out the maximum intensity projection of the movie for context."
   ]
  },
  {
   "cell_type": "code",
   "execution_count": null,
   "metadata": {
    "collapsed": false
   },
   "outputs": [],
   "source": [
    "import matplotlib.pyplot as plt\n",
    "import numpy as np\n",
    "%matplotlib inline\n",
    "\n",
    "# get the specimen IDs for a few cells\n",
    "cids = exp.get_cell_specimen_ids()[:15:5]\n",
    "\n",
    "# get masks for specific cells\n",
    "roi_mask_list = exp.get_roi_mask(cell_specimen_ids=cids)\n",
    "\n",
    "# plot each mask\n",
    "f, axes = plt.subplots(1, len(cids)+2, figsize=(15, 3))\n",
    "for ax, roi_mask, cid in zip(axes[:-2], roi_mask_list, cids):\n",
    "    ax.imshow(roi_mask.get_mask_plane(), cmap='gray')\n",
    "    ax.set_title('cell %d' % cid)\n",
    "\n",
    "# make a mask of all ROIs in the experiment    \n",
    "all_roi_masks = exp.get_roi_mask()\n",
    "sum_mask = np.zeros(exp.MOVIE_FOV_PX)\n",
    "for roi_mask in all_roi_masks:\n",
    "    sum_mask[roi_mask.get_mask_plane()>0] = 1\n",
    "\n",
    "axes[-2].imshow(sum_mask, cmap='gray')\n",
    "axes[-2].set_title('all ROIs')\n",
    "\n",
    "# show the movie max projection\n",
    "max_projection = exp.get_max_projection()\n",
    "axes[-1].imshow(max_projection, cmap='gray')\n",
    "axes[-1].set_title('max projection')\n",
    "\n",
    "plt.show()"
   ]
  },
  {
   "cell_type": "code",
   "execution_count": null,
   "metadata": {
    "collapsed": true
   },
   "outputs": [],
   "source": []
  }
 ],
 "metadata": {
  "kernelspec": {
   "display_name": "Python 2",
   "language": "python",
   "name": "python2"
  },
  "language_info": {
   "codemirror_mode": {
    "name": "ipython",
    "version": 2
   },
   "file_extension": ".py",
   "mimetype": "text/x-python",
   "name": "python",
   "nbconvert_exporter": "python",
   "pygments_lexer": "ipython2",
   "version": "2.7.11"
  }
 },
 "nbformat": 4,
 "nbformat_minor": 0
}

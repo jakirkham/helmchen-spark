{
 "cells": [
  {
   "cell_type": "markdown",
   "metadata": {},
   "source": [
    "## Example notebook for accessing data in a Swift object store"
   ]
  },
  {
   "cell_type": "code",
   "execution_count": null,
   "metadata": {
    "collapsed": false
   },
   "outputs": [],
   "source": [
    "import os, sys\n",
    "import getpass\n",
    "\n",
    "from os import listdir\n",
    "from os.path import isfile, join\n",
    "\n",
    "utils_dir = join(os.getcwd(), 'utils')\n",
    "sys.path.append(utils_dir)\n",
    "import SwiftStorageUtils"
   ]
  },
  {
   "cell_type": "markdown",
   "metadata": {},
   "source": [
    "### Specify OpenStack credentials and container information"
   ]
  },
  {
   "cell_type": "code",
   "execution_count": null,
   "metadata": {
    "collapsed": false
   },
   "outputs": [],
   "source": [
    "# OpenStack credentials\n",
    "os_username = 'hluetc'\n",
    "os_tenant_name = 'helmchen.hifo.uzh'\n",
    "os_auth_url = 'https://cloud.s3it.uzh.ch:5000/v2.0'\n",
    "# provide OS password\n",
    "os_password = getpass.getpass()\n",
    "\n",
    "# store connection settings for OpenStack in dictionary\n",
    "conn_opts = {\n",
    "    \"os_username\": os_username,\n",
    "    \"os_password\": os_password,\n",
    "    \"os_tenant_name\": os_tenant_name,\n",
    "    \"os_auth_url\": os_auth_url\n",
    "}"
   ]
  },
  {
   "cell_type": "code",
   "execution_count": null,
   "metadata": {
    "collapsed": true
   },
   "outputs": [],
   "source": [
    "# Swift container (must exist already; create in https://cloud.s3it.uzh.ch/project/containers/)\n",
    "swift_container = 'henry2'\n",
    "# Pseudo-folder for data hierarchy\n",
    "swift_folder = 'test'"
   ]
  },
  {
   "cell_type": "markdown",
   "metadata": {},
   "source": [
    "### List items in container"
   ]
  },
  {
   "cell_type": "code",
   "execution_count": null,
   "metadata": {
    "collapsed": false
   },
   "outputs": [],
   "source": [
    "# check if container exists and print items\n",
    "from SwiftStorageUtils import listItems\n",
    "listItems(swift_container, conn_opts)"
   ]
  },
  {
   "cell_type": "markdown",
   "metadata": {},
   "source": [
    "### Upload files to container"
   ]
  },
  {
   "cell_type": "code",
   "execution_count": null,
   "metadata": {
    "collapsed": false
   },
   "outputs": [],
   "source": [
    "# Define files that should be uploaded to Swift\n",
    "# All files of type 'ftype' in the directory 'source_dir' will be transfered\n",
    "source_dir = '/Users/Henry/polybox/Data_temp/NeuroPipeline/LEC_Data/'\n",
    "ftype = '.h5' # set to None to choose all files, '.h5' to select only HDF5 files etc."
   ]
  },
  {
   "cell_type": "code",
   "execution_count": null,
   "metadata": {
    "collapsed": true
   },
   "outputs": [],
   "source": [
    "# function to restrict file type (returns true for files ending with ftype)\n",
    "def is_type(f, ftype):\n",
    "    if not ftype:\n",
    "        return True\n",
    "    else:\n",
    "        return (\n",
    "                f.lower().endswith(ftype)\n",
    "            )"
   ]
  },
  {
   "cell_type": "code",
   "execution_count": null,
   "metadata": {
    "collapsed": false
   },
   "outputs": [],
   "source": [
    "# assemble file list\n",
    "files= [f for f in listdir(source_dir) \n",
    "            if (isfile(join(source_dir, f)) \n",
    "            and is_type(join(source_dir, f), ftype))]\n",
    "files = [join(source_dir, f) for f in files]\n",
    "print \"Uploading %1.0f files to Swift:\" % len(files)\n",
    "for f in files: print(f)"
   ]
  },
  {
   "cell_type": "code",
   "execution_count": null,
   "metadata": {
    "collapsed": false
   },
   "outputs": [],
   "source": [
    "# upload items in files\n",
    "from SwiftStorageUtils import uploadItems\n",
    "uploadItems(swift_container, swift_folder, source_dir, files, conn_opts)"
   ]
  },
  {
   "cell_type": "markdown",
   "metadata": {
    "collapsed": true
   },
   "source": [
    "### Download files from container"
   ]
  },
  {
   "cell_type": "code",
   "execution_count": null,
   "metadata": {
    "collapsed": false
   },
   "outputs": [],
   "source": [
    "# specify the objects to be downloaded\n",
    "objects_to_download = [\n",
    "    'test/Monyer_Leitner_F400_spot02.h5',\n",
    "    'test/Monyer_Leitner_F400_spot04.h5'\n",
    "]\n",
    "# local storage directory\n",
    "local_dir = '/Users/Henry/Data/Projects/NeuroPipeline/temp'\n",
    "\n",
    "# download options\n",
    "down_opts = {\n",
    "    'skip_identical': True,\n",
    "    'out_directory': local_dir,\n",
    "}\n",
    "\n",
    "from SwiftStorageUtils import downloadItems\n",
    "downloadItems(swift_container, objects_to_download, conn_opts, down_opts)"
   ]
  },
  {
   "cell_type": "markdown",
   "metadata": {},
   "source": [
    "### Delete files in container"
   ]
  },
  {
   "cell_type": "code",
   "execution_count": null,
   "metadata": {
    "collapsed": false
   },
   "outputs": [],
   "source": [
    "# specify the objects to be deleted\n",
    "objects_to_delete = [\n",
    "    'test/Monyer_Leitner_F397_spot01.h5',\n",
    "    'test/Monyer_Leitner_F296_spot01.h5'\n",
    "]\n",
    "\n",
    "from SwiftStorageUtils import deleteItems\n",
    "deleteItems(swift_container, objects_to_delete, conn_opts)"
   ]
  },
  {
   "cell_type": "code",
   "execution_count": null,
   "metadata": {
    "collapsed": false
   },
   "outputs": [],
   "source": [
    "print file_list"
   ]
  },
  {
   "cell_type": "code",
   "execution_count": null,
   "metadata": {
    "collapsed": true
   },
   "outputs": [],
   "source": []
  }
 ],
 "metadata": {
  "kernelspec": {
   "display_name": "Python 2",
   "language": "python",
   "name": "python2"
  },
  "language_info": {
   "codemirror_mode": {
    "name": "ipython",
    "version": 2
   },
   "file_extension": ".py",
   "mimetype": "text/x-python",
   "name": "python",
   "nbconvert_exporter": "python",
   "pygments_lexer": "ipython2",
   "version": "2.7.11"
  }
 },
 "nbformat": 4,
 "nbformat_minor": 0
}

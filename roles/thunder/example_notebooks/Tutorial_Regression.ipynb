{
 "cells": [
  {
   "cell_type": "code",
   "execution_count": null,
   "metadata": {
    "collapsed": false,
    "urth": {
     "dashboard": {
      "hidden": true,
      "layout": {}
     }
    }
   },
   "outputs": [],
   "source": [
    "import numpy as np\n",
    "import pylab as plt\n",
    "import h5py\n",
    "import os, sys\n",
    "import seaborn as sns\n",
    "sns.set_style('darkgrid')\n",
    "sns.set_context('notebook')\n",
    "\n",
    "%matplotlib inline"
   ]
  },
  {
   "cell_type": "code",
   "execution_count": null,
   "metadata": {
    "collapsed": true
   },
   "outputs": [],
   "source": [
    "# add folder utils to the Python path\n",
    "utils_dir = os.path.join(os.getcwd(), 'utils')\n",
    "sys.path.append(utils_dir) # add folder to Python path"
   ]
  },
  {
   "cell_type": "code",
   "execution_count": null,
   "metadata": {
    "collapsed": false,
    "urth": {
     "dashboard": {
      "layout": {
       "col": 0,
       "height": 4,
       "row": 0,
       "width": 4
      }
     }
    }
   },
   "outputs": [],
   "source": [
    "# starting Spark depends on where the notebook is running\n",
    "# choose 'local' or 'openstack'\n",
    "nbBackend = 'local'\n",
    "print \"Running notebook on \" + nbBackend + \" backend\""
   ]
  },
  {
   "cell_type": "code",
   "execution_count": null,
   "metadata": {
    "collapsed": false
   },
   "outputs": [],
   "source": [
    "from setupSpark import initSpark\n",
    "sc = initSpark(nbBackend)"
   ]
  },
  {
   "cell_type": "code",
   "execution_count": null,
   "metadata": {
    "collapsed": true,
    "urth": {
     "dashboard": {
      "hidden": true,
      "layout": {}
     }
    }
   },
   "outputs": [],
   "source": [
    "# add py-files in this folder to the SparkContext \n",
    "# (this allows that all required files are available on all workers)\n",
    "for filename in os.listdir(utils_dir):\n",
    "    if filename.endswith('.py'):\n",
    "        sc.addPyFile(os.path.join(utils_dir, filename))"
   ]
  },
  {
   "cell_type": "code",
   "execution_count": null,
   "metadata": {
    "collapsed": true,
    "urth": {
     "dashboard": {
      "hidden": true,
      "layout": {}
     }
    }
   },
   "outputs": [],
   "source": [
    "# full path to HDF5 file\n",
    "directory = '/Users/Henry/polybox/Data_temp/NeuroPipeline/LEC_Data'\n",
    "# select H5 file\n",
    "h5file = 'Monyer_Leitner_F296_spot01.h5'\n",
    "h5file = directory + os.sep + h5file"
   ]
  },
  {
   "cell_type": "code",
   "execution_count": null,
   "metadata": {
    "collapsed": false,
    "urth": {
     "dashboard": {
      "hidden": true,
      "layout": {}
     }
    }
   },
   "outputs": [],
   "source": [
    "# obtain further information about the dataset (size, sampling rate, number of trials)\n",
    "from NeuroH5Utils import getFileInfo\n",
    "dsetSz, sampF, nTrials = getFileInfo(h5file)"
   ]
  },
  {
   "cell_type": "code",
   "execution_count": null,
   "metadata": {
    "collapsed": false,
    "urth": {
     "dashboard": {
      "hidden": true,
      "layout": {}
     }
    }
   },
   "outputs": [],
   "source": [
    "# create the RDD and Thunder series\n",
    "import thunder as td\n",
    "from NeuroH5Utils import convert2RDD\n",
    "numPartitions = 10 # how many partitions?\n",
    "rdd = convert2RDD(sc, h5file, numPartitions=numPartitions)\n",
    "series = td.series.fromrdd(rdd.map(lambda kv: ((kv[0],), kv[1])))"
   ]
  },
  {
   "cell_type": "code",
   "execution_count": null,
   "metadata": {
    "collapsed": false
   },
   "outputs": [],
   "source": [
    "nNeurons = series.count()\n",
    "nTimepoints = len(series.index)\n",
    "t = (np.linspace(1, nTimepoints, nTimepoints)) / sampF"
   ]
  },
  {
   "cell_type": "code",
   "execution_count": null,
   "metadata": {
    "collapsed": false,
    "urth": {
     "dashboard": {
      "hidden": true,
      "layout": {}
     }
    }
   },
   "outputs": [],
   "source": [
    "# import stimulus data\n",
    "from NeuroH5Utils import getStimData\n",
    "stimData, stimNames = getStimData(h5file)"
   ]
  },
  {
   "cell_type": "markdown",
   "metadata": {
    "urth": {
     "dashboard": {
      "layout": {
       "col": 8,
       "height": 4,
       "row": 0,
       "width": 4
      }
     }
    }
   },
   "source": [
    "### Regression analysis\n",
    "\n",
    "Linear regression of stimulus vector against the timeseries data for each ROI"
   ]
  },
  {
   "cell_type": "code",
   "execution_count": null,
   "metadata": {
    "collapsed": false,
    "urth": {
     "dashboard": {
      "hidden": true,
      "layout": {}
     }
    }
   },
   "outputs": [],
   "source": [
    "# build design matrix from stimulus vector\n",
    "stimId = stimData[stimData>0].astype(np.int64) # need integer for indexing later\n",
    "stimIx = np.where(stimData>0)\n",
    "stimIx = stimIx[0]\n",
    "nStims = len(np.unique(stimId))\n",
    "X = np.zeros((nStims, nTimepoints), int)\n",
    "# for iStim in range(len(stimIx)):\n",
    "#     X[stimId[iStim]-1, stimIx[iStim]] = 1\n",
    "for ix, iStim in enumerate(stimIx):\n",
    "    X[stimId[ix]-1, stimIx[ix]] = 1\n",
    "# plot stimulus matrix\n",
    "fig = plt.figure(figsize=(20,5))\n",
    "plt.plot(t, X.T);\n",
    "plt.xlim((0, np.max(t)));\n",
    "plt.xlabel('Time [s]');\n",
    "plt.show()"
   ]
  },
  {
   "cell_type": "code",
   "execution_count": null,
   "metadata": {
    "collapsed": true,
    "urth": {
     "dashboard": {
      "hidden": true,
      "layout": {}
     }
    }
   },
   "outputs": [],
   "source": [
    "def convolveStimWithCalciumResponse(stim, t, tauOn, tauOff):\n",
    "    # canonical calcium indicator response\n",
    "    # tauOn ... onset time in s\n",
    "    # tauOff ... offset time in s\n",
    "    signal = (1-(np.exp(-t/tauOn)))*(np.exp(-(t/tauOff)));\n",
    "    # plt.plot(t, signal);\n",
    "    # convolve stimulus with the canonical calcium indicator response\n",
    "    stim_conv = np.convolve(stim, signal)\n",
    "    stim_conv = np.delete(stim_conv, range(len(stim),len(stim_conv)))\n",
    "    # plt.plot(t, stim)\n",
    "    # plt.plot(t, stim_conv)\n",
    "    return stim_conv"
   ]
  },
  {
   "cell_type": "code",
   "execution_count": null,
   "metadata": {
    "collapsed": false,
    "urth": {
     "dashboard": {
      "hidden": true,
      "layout": {}
     }
    }
   },
   "outputs": [],
   "source": [
    "# convolve X with the calcium response\n",
    "tauOn = 0.5 # in s\n",
    "tauOff = 5 # in s\n",
    "Xconv = np.zeros((nStims, nTimepoints), float)\n",
    "for iStim in range(nStims):\n",
    "    Xconv[iStim, :] = convolveStimWithCalciumResponse(X[iStim, :], t, tauOn, tauOff)\n",
    "# plot convolved stimulus matrix\n",
    "fig = plt.figure(figsize=(20,5))\n",
    "plt.plot(t, Xconv.T);\n",
    "plt.xlim((0, np.max(t)));\n",
    "plt.xlabel('Time [s]');\n",
    "plt.show()"
   ]
  },
  {
   "cell_type": "code",
   "execution_count": null,
   "metadata": {
    "collapsed": false,
    "urth": {
     "dashboard": {
      "hidden": true,
      "layout": {}
     }
    }
   },
   "outputs": [],
   "source": [
    "# create and fit the model\n",
    "from regression import LinearRegression\n",
    "algorithm = LinearRegression(fit_intercept=True, normalize=True)\n",
    "model,score = algorithm.fit_and_score(Xconv.T, series)"
   ]
  },
  {
   "cell_type": "code",
   "execution_count": null,
   "metadata": {
    "collapsed": false,
    "urth": {
     "dashboard": {
      "hidden": true,
      "layout": {}
     }
    }
   },
   "outputs": [],
   "source": [
    "# get betas as array and plot\n",
    "betas = model.betas.toarray()\n",
    "\n",
    "plt.figure(figsize=(20,6))\n",
    "# beta matrix image\n",
    "fig = plt.imshow(betas, cmap='gray', interpolation='nearest', \n",
    "           aspect=0.25, origin='lower', vmin=0, vmax=100)\n",
    "plt.xlabel('StimID')\n",
    "plt.ylabel('Neuron ID')\n",
    "plt.xticks([])\n",
    "plt.colorbar();\n",
    "plt.show()\n",
    "# plt.savefig('GLM_betaImage.tiff', interpolation='nearest')"
   ]
  },
  {
   "cell_type": "code",
   "execution_count": null,
   "metadata": {
    "collapsed": false,
    "urth": {
     "dashboard": {
      "hidden": true,
      "layout": {}
     }
    }
   },
   "outputs": [],
   "source": [
    "plt.figure(figsize=(20,5))\n",
    "plt.bar(range(nNeurons), score.toarray());\n",
    "plt.xlabel('Neuron ID');\n",
    "plt.ylabel('Model fit / R^2');\n",
    "plt.xlim((0, nNeurons));"
   ]
  },
  {
   "cell_type": "code",
   "execution_count": null,
   "metadata": {
    "collapsed": true
   },
   "outputs": [],
   "source": []
  }
 ],
 "metadata": {
  "kernelspec": {
   "display_name": "Python 2",
   "language": "python",
   "name": "python2"
  },
  "language_info": {
   "codemirror_mode": {
    "name": "ipython",
    "version": 2
   },
   "file_extension": ".py",
   "mimetype": "text/x-python",
   "name": "python",
   "nbconvert_exporter": "python",
   "pygments_lexer": "ipython2",
   "version": "2.7.11"
  },
  "urth": {
   "dashboard": {
    "cellMargin": 10,
    "defaultCellHeight": 20,
    "layout": "grid",
    "maxColumns": 12
   }
  }
 },
 "nbformat": 4,
 "nbformat_minor": 0
}
